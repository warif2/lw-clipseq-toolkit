{
 "cells": [
  {
   "cell_type": "markdown",
   "id": "83936fa8",
   "metadata": {},
   "source": [
    "# CLIPSeq-Toolkit Analysis Workflow\n",
    "\n",
    "    This notebook will go step by step on how to use the various scripts available in the lw-clipseq-toolkit. The\n",
    "    notebook will use test data available within the test_data directory as an example. However, the notebook is\n",
    "    designed so that you can configure it to run your dataset through the workflow.\n",
    "    \n",
    "    Directions on how to use a jupyter notebook: To run a cell block, hold [Shift] then press [Enter]."
   ]
  },
  {
   "cell_type": "code",
   "execution_count": 2,
   "id": "a99feef9",
   "metadata": {},
   "outputs": [],
   "source": [
    "# Import modules to help execute commands\n",
    "import os\n",
    "import pandas as pd"
   ]
  },
  {
   "cell_type": "markdown",
   "id": "a8b40736",
   "metadata": {},
   "source": [
    "## Step 1: Convert gff3 annotation file into BED format\n",
    "\n",
    "Before peaks can be annotated, the annotation file needs to be converted to a BED format. Annotations for mouse and humans can be obtained from Gencode (https://www.gencodegenes.org/). For other species, annotations can be obtained from Ensembl (https://useast.ensembl.org/index.html). The annotation file should follow the gff3 format (http://gmod.org/wiki/GFF3)."
   ]
  },
  {
   "cell_type": "code",
   "execution_count": 20,
   "id": "a20b31e0",
   "metadata": {},
   "outputs": [],
   "source": [
    "# Set path variables for gff3 file\n",
    "gff_path = 'test_data/annotation.test.gff3'\n",
    "\n",
    "# Set desired path for output files\n",
    "out_file = 'test_data/'"
   ]
  },
  {
   "cell_type": "markdown",
   "id": "589ada3e",
   "metadata": {},
   "source": [
    "Running the conversion will take time to run. The following output files will be created; features.bed, \n",
    "    intron.bed, and annotation.bed."
   ]
  },
  {
   "cell_type": "code",
   "execution_count": 21,
   "id": "8bd88f84",
   "metadata": {},
   "outputs": [
    {
     "name": "stdout",
     "output_type": "stream",
     "text": [
      "Conversion of gff to bed was successful.\n",
      "Finished creating intron.bed annotation file.\n",
      "Conversion of gff3 to BED format was successful.\n"
     ]
    }
   ],
   "source": [
    "%%bash -s \"$gff_path\" \"$out_file\"\n",
    "\n",
    "# Run the gff2bed.py script to convert gff to BED\n",
    "python gff2bed.py -gff $1 -out $2"
   ]
  },
  {
   "cell_type": "markdown",
   "id": "43e2704a",
   "metadata": {},
   "source": [
    "The annotation.bed file will be used to annotate the clip peak file."
   ]
  },
  {
   "cell_type": "markdown",
   "id": "efec2c74",
   "metadata": {},
   "source": [
    "## Step 2: Annotate CLIP peaks\n",
    "\n",
    "The CLIP peaks will be annotated using the annotation.bed file created in the previous step. The CLIP peaks file should be in a BED6 format with each row corresponding to a CLIP peak. BED6, a tab-delimited file with columns in the following order; chrom, start, stop, name, score, strand. "
   ]
  },
  {
   "cell_type": "code",
   "execution_count": 22,
   "id": "7d5d9b05",
   "metadata": {},
   "outputs": [],
   "source": [
    "# Set path variables for gff_bed file and peak file\n",
    "gff_bed_path = 'test_data/annotation.bed'\n",
    "peak_path = 'test_data/peak.test.bed'\n",
    "\n",
    "# Set desired path for output files\n",
    "out_file = 'test_data/'"
   ]
  },
  {
   "cell_type": "code",
   "execution_count": 32,
   "id": "2fce382d",
   "metadata": {},
   "outputs": [
    {
     "name": "stdout",
     "output_type": "stream",
     "text": [
      "Number of intersection errors: 0\n",
      "Finished annotating peaks.\n"
     ]
    }
   ],
   "source": [
    "%%bash -s \"$peak_path\" \"$gff_bed_path\" \"$out_file\"\n",
    "\n",
    "# Run the annotate_peaks.py script to to annotate the peaks\n",
    "python annotate_peaks.py -pk $1 -gbed $2 -out $3"
   ]
  },
  {
   "cell_type": "markdown",
   "id": "561d067a",
   "metadata": {},
   "source": [
    "Completion of the script results in the output file 'annotated_peaks.csv'. The file has 10 columns with each row corresponding to a peak. "
   ]
  },
  {
   "cell_type": "code",
   "execution_count": 37,
   "id": "299b46ee",
   "metadata": {},
   "outputs": [
    {
     "data": {
      "text/html": [
       "<div>\n",
       "<style scoped>\n",
       "    .dataframe tbody tr th:only-of-type {\n",
       "        vertical-align: middle;\n",
       "    }\n",
       "\n",
       "    .dataframe tbody tr th {\n",
       "        vertical-align: top;\n",
       "    }\n",
       "\n",
       "    .dataframe thead th {\n",
       "        text-align: right;\n",
       "    }\n",
       "</style>\n",
       "<table border=\"1\" class=\"dataframe\">\n",
       "  <thead>\n",
       "    <tr style=\"text-align: right;\">\n",
       "      <th></th>\n",
       "      <th>peak_id</th>\n",
       "      <th>gene_name</th>\n",
       "      <th>gene_id</th>\n",
       "      <th>gene_type</th>\n",
       "      <th>chr</th>\n",
       "      <th>start</th>\n",
       "      <th>stop</th>\n",
       "      <th>strand</th>\n",
       "      <th>feature</th>\n",
       "      <th>exon_type</th>\n",
       "    </tr>\n",
       "  </thead>\n",
       "  <tbody>\n",
       "    <tr>\n",
       "      <th>78</th>\n",
       "      <td>peak_79</td>\n",
       "      <td>Aqp12</td>\n",
       "      <td>ENSMUSG00000045091.4</td>\n",
       "      <td>protein_coding</td>\n",
       "      <td>chr1</td>\n",
       "      <td>93012021</td>\n",
       "      <td>93012167</td>\n",
       "      <td>+</td>\n",
       "      <td>exon</td>\n",
       "      <td>three_prime_UTR;stop_codon;CDS</td>\n",
       "    </tr>\n",
       "    <tr>\n",
       "      <th>83</th>\n",
       "      <td>peak_84</td>\n",
       "      <td>Gm15668</td>\n",
       "      <td>ENSMUSG00000086204.1</td>\n",
       "      <td>lincRNA</td>\n",
       "      <td>chr1</td>\n",
       "      <td>67250556</td>\n",
       "      <td>67250627</td>\n",
       "      <td>+</td>\n",
       "      <td>exon</td>\n",
       "      <td>NaN</td>\n",
       "    </tr>\n",
       "    <tr>\n",
       "      <th>108</th>\n",
       "      <td>peak_109</td>\n",
       "      <td>Il1rl2</td>\n",
       "      <td>ENSMUSG00000070942.8</td>\n",
       "      <td>protein_coding</td>\n",
       "      <td>chr1</td>\n",
       "      <td>40363220</td>\n",
       "      <td>40363340</td>\n",
       "      <td>+</td>\n",
       "      <td>exon</td>\n",
       "      <td>CDS</td>\n",
       "    </tr>\n",
       "    <tr>\n",
       "      <th>139</th>\n",
       "      <td>peak_140</td>\n",
       "      <td>Coa5</td>\n",
       "      <td>ENSMUSG00000026112.7</td>\n",
       "      <td>protein_coding</td>\n",
       "      <td>chr1</td>\n",
       "      <td>37417651</td>\n",
       "      <td>37417745</td>\n",
       "      <td>+</td>\n",
       "      <td>exon</td>\n",
       "      <td>three_prime_UTR</td>\n",
       "    </tr>\n",
       "    <tr>\n",
       "      <th>148</th>\n",
       "      <td>peak_149</td>\n",
       "      <td>Enah</td>\n",
       "      <td>ENSMUSG00000022995.16</td>\n",
       "      <td>protein_coding</td>\n",
       "      <td>chr1</td>\n",
       "      <td>181896915</td>\n",
       "      <td>181896987</td>\n",
       "      <td>+</td>\n",
       "      <td>exon</td>\n",
       "      <td>three_prime_UTR</td>\n",
       "    </tr>\n",
       "    <tr>\n",
       "      <th>153</th>\n",
       "      <td>peak_154</td>\n",
       "      <td>Coa5</td>\n",
       "      <td>ENSMUSG00000026112.7</td>\n",
       "      <td>protein_coding</td>\n",
       "      <td>chr1</td>\n",
       "      <td>37417598</td>\n",
       "      <td>37417651</td>\n",
       "      <td>+</td>\n",
       "      <td>exon</td>\n",
       "      <td>three_prime_UTR</td>\n",
       "    </tr>\n",
       "    <tr>\n",
       "      <th>176</th>\n",
       "      <td>peak_177</td>\n",
       "      <td>Fam174a</td>\n",
       "      <td>ENSMUSG00000051185.9</td>\n",
       "      <td>protein_coding</td>\n",
       "      <td>chr1</td>\n",
       "      <td>95327525</td>\n",
       "      <td>95327607</td>\n",
       "      <td>-</td>\n",
       "      <td>exon</td>\n",
       "      <td>three_prime_UTR</td>\n",
       "    </tr>\n",
       "    <tr>\n",
       "      <th>180</th>\n",
       "      <td>peak_181</td>\n",
       "      <td>Fn1</td>\n",
       "      <td>ENSMUSG00000026193.15</td>\n",
       "      <td>protein_coding</td>\n",
       "      <td>chr1</td>\n",
       "      <td>71644952</td>\n",
       "      <td>71645047</td>\n",
       "      <td>-</td>\n",
       "      <td>exon</td>\n",
       "      <td>NaN</td>\n",
       "    </tr>\n",
       "    <tr>\n",
       "      <th>206</th>\n",
       "      <td>peak_207</td>\n",
       "      <td>Fam174a</td>\n",
       "      <td>ENSMUSG00000051185.9</td>\n",
       "      <td>protein_coding</td>\n",
       "      <td>chr1</td>\n",
       "      <td>95326846</td>\n",
       "      <td>95326896</td>\n",
       "      <td>-</td>\n",
       "      <td>exon</td>\n",
       "      <td>three_prime_UTR</td>\n",
       "    </tr>\n",
       "    <tr>\n",
       "      <th>215</th>\n",
       "      <td>peak_216</td>\n",
       "      <td>Tns1</td>\n",
       "      <td>ENSMUSG00000055322.15</td>\n",
       "      <td>protein_coding</td>\n",
       "      <td>chr1</td>\n",
       "      <td>73995225</td>\n",
       "      <td>73995317</td>\n",
       "      <td>-</td>\n",
       "      <td>exon</td>\n",
       "      <td>CDS</td>\n",
       "    </tr>\n",
       "  </tbody>\n",
       "</table>\n",
       "</div>"
      ],
      "text/plain": [
       "      peak_id gene_name                gene_id       gene_type   chr  \\\n",
       "78    peak_79     Aqp12   ENSMUSG00000045091.4  protein_coding  chr1   \n",
       "83    peak_84   Gm15668   ENSMUSG00000086204.1         lincRNA  chr1   \n",
       "108  peak_109    Il1rl2   ENSMUSG00000070942.8  protein_coding  chr1   \n",
       "139  peak_140      Coa5   ENSMUSG00000026112.7  protein_coding  chr1   \n",
       "148  peak_149      Enah  ENSMUSG00000022995.16  protein_coding  chr1   \n",
       "153  peak_154      Coa5   ENSMUSG00000026112.7  protein_coding  chr1   \n",
       "176  peak_177   Fam174a   ENSMUSG00000051185.9  protein_coding  chr1   \n",
       "180  peak_181       Fn1  ENSMUSG00000026193.15  protein_coding  chr1   \n",
       "206  peak_207   Fam174a   ENSMUSG00000051185.9  protein_coding  chr1   \n",
       "215  peak_216      Tns1  ENSMUSG00000055322.15  protein_coding  chr1   \n",
       "\n",
       "         start       stop strand feature                       exon_type  \n",
       "78    93012021   93012167      +    exon  three_prime_UTR;stop_codon;CDS  \n",
       "83    67250556   67250627      +    exon                             NaN  \n",
       "108   40363220   40363340      +    exon                             CDS  \n",
       "139   37417651   37417745      +    exon                 three_prime_UTR  \n",
       "148  181896915  181896987      +    exon                 three_prime_UTR  \n",
       "153   37417598   37417651      +    exon                 three_prime_UTR  \n",
       "176   95327525   95327607      -    exon                 three_prime_UTR  \n",
       "180   71644952   71645047      -    exon                             NaN  \n",
       "206   95326846   95326896      -    exon                 three_prime_UTR  \n",
       "215   73995225   73995317      -    exon                             CDS  "
      ]
     },
     "execution_count": 37,
     "metadata": {},
     "output_type": "execute_result"
    }
   ],
   "source": [
    "# View the annotated peaks\n",
    "annot_peaks = pd.read_csv(out_file + '/annotated_peaks.csv')\n",
    "annot_peaks[annot_peaks['feature'] == 'exon'].head(n=10)"
   ]
  },
  {
   "cell_type": "markdown",
   "id": "8dad1bde",
   "metadata": {},
   "source": [
    "annotated_peaks.csv column explanation:\n",
    "\n",
    "1. The 'feature' column signifies what feature type the peak overlaps with, possible features are exon, exon-intron, intron, and intergenic. \n",
    "\n",
    "2. For peaks that overlap on 'exon' or 'exon-intron' features, the exon_type column specifies the possible exon_type. The possible types are CDS, three_prime_UTR, five_prime_UTR, start_codon, stop_codon. If there are multiple entries in the exon_type field, it signifies that different transcripts of that gene have different annotations for that region."
   ]
  },
  {
   "cell_type": "markdown",
   "id": "eaaea5ef",
   "metadata": {},
   "source": [
    "### Get simple summary of annotated peaks"
   ]
  },
  {
   "cell_type": "code",
   "execution_count": 38,
   "id": "f30412a1",
   "metadata": {},
   "outputs": [],
   "source": [
    "# Set path variables for gff_bed file and peak file\n",
    "annot_peak_path = 'test_data/annotated_peaks.csv'\n",
    "\n",
    "# Set desired path for output files\n",
    "out_file = 'test_data/'"
   ]
  },
  {
   "cell_type": "code",
   "execution_count": 40,
   "id": "010be941",
   "metadata": {},
   "outputs": [
    {
     "name": "stdout",
     "output_type": "stream",
     "text": [
      "Summary complete!\n"
     ]
    }
   ],
   "source": [
    "%%bash -s \"$annot_peak_path\" \"$out_file\"\n",
    "\n",
    "# Run the annotate_peaks.py script to to annotate the peaks\n",
    "python peak_summary.py -ap $1 -out $2"
   ]
  },
  {
   "cell_type": "code",
   "execution_count": 46,
   "id": "d2c302bb",
   "metadata": {},
   "outputs": [
    {
     "name": "stdout",
     "output_type": "stream",
     "text": [
      "intergenic + exon + intron + exon-intron: 489\n",
      "Total number of peaks from annotated peaks: 489\n"
     ]
    },
    {
     "data": {
      "text/html": [
       "<div>\n",
       "<style scoped>\n",
       "    .dataframe tbody tr th:only-of-type {\n",
       "        vertical-align: middle;\n",
       "    }\n",
       "\n",
       "    .dataframe tbody tr th {\n",
       "        vertical-align: top;\n",
       "    }\n",
       "\n",
       "    .dataframe thead th {\n",
       "        text-align: right;\n",
       "    }\n",
       "</style>\n",
       "<table border=\"1\" class=\"dataframe\">\n",
       "  <thead>\n",
       "    <tr style=\"text-align: right;\">\n",
       "      <th></th>\n",
       "      <th>intergenic</th>\n",
       "      <th>exon</th>\n",
       "      <th>intron</th>\n",
       "      <th>exon-intron</th>\n",
       "      <th>CDS</th>\n",
       "      <th>five_prime_UTR</th>\n",
       "      <th>three_prime_UTR</th>\n",
       "    </tr>\n",
       "  </thead>\n",
       "  <tbody>\n",
       "    <tr>\n",
       "      <th>0</th>\n",
       "      <td>127</td>\n",
       "      <td>22</td>\n",
       "      <td>324</td>\n",
       "      <td>16</td>\n",
       "      <td>16</td>\n",
       "      <td>0</td>\n",
       "      <td>12</td>\n",
       "    </tr>\n",
       "  </tbody>\n",
       "</table>\n",
       "</div>"
      ],
      "text/plain": [
       "   intergenic  exon  intron  exon-intron  CDS  five_prime_UTR  three_prime_UTR\n",
       "0         127    22     324           16   16               0               12"
      ]
     },
     "execution_count": 46,
     "metadata": {},
     "output_type": "execute_result"
    }
   ],
   "source": [
    "# Path to summary file\n",
    "summary_file = out_file + '/feature_count_summary.csv'\n",
    "\n",
    "# View summary table\n",
    "summary_tbl = pd.read_csv(summary_file)\n",
    "feature_sum = summary_tbl['exon'] + summary_tbl['intron'] + summary_tbl['intergenic'] + summary_tbl['exon-intron']\n",
    "print('intergenic + exon + intron + exon-intron: %i' % feature_sum)\n",
    "print('Total number of peaks from annotated peaks: %i' % annot_peaks.shape[0])\n",
    "summary_tbl"
   ]
  },
  {
   "cell_type": "markdown",
   "id": "30cb4048",
   "metadata": {},
   "source": [
    "## Step 3: Determine Overlap of CLIP Peaks with Exons from rMATS Output\n",
    "\n",
    "It is often desired to overlap the CLIP data with results obtained from additional analysis. For instance, for a splicing factor, it is logical to assess if CLIP peaks are present on exons that are differentially spliced in settings of overexpression or knockdown of the splicing factor. rMATS is a popular pipeline that is used to determine differential exon usage between two conditions (control vs experiment). This toolkit also provides scripts to intersect rMATS output with the annotated CLIP peaks."
   ]
  },
  {
   "cell_type": "markdown",
   "id": "90b53ca8",
   "metadata": {},
   "source": [
    "### Step 3a: rMATS Output Filtering and Formatting (Mandatory)\n",
    "\n",
    "To perform the overlap, the rMATS data must be formatted and consolidated to allow the script to execute properly. This is achieved by using the rMATS_filter.py script. This script filters out the rMATS output based on various thresholds as well as format the data for usage in the script.\n",
    "\n",
    "<b>Note on rMATS output:</b>\n",
    "\n",
    "The rMATS output consists of 5 splice event type; skipped exon (SE), alternative 5' splice site (A5SS), alternative 3' splice site (A3SS), mutually exclusive exon (MXE) and retained intron (RI). It also has estimations based on only junction read counts (JC) or junction + exon read counts (JCEC). For this example analysis, all exon type events estimated using junction + exon read counts will be used"
   ]
  },
  {
   "cell_type": "markdown",
   "id": "26515631",
   "metadata": {},
   "source": [
    "#### Set Filtering Threshold"
   ]
  },
  {
   "cell_type": "code",
   "execution_count": 52,
   "id": "d92503dd",
   "metadata": {},
   "outputs": [],
   "source": [
    "# Set p-value filter threshold. This will keep all events that have p-values that are < the value specified.\n",
    "# If filtering is not desired by pvalue, set this to 1.\n",
    "pval_filter = 0.15\n",
    "\n",
    "# Set FDR filter threshold. This will keep all events that have FDR that are < the value specified.\n",
    "# If filtering is not desired by FDR, set this to 1.\n",
    "fdr_filter = 0.15\n",
    "\n",
    "# Set IncLevelDiff filter threshold. This will keep all events that have IncLevelDiff that are > the value specified.\n",
    "# IncLevelDiff refers to the change in percent spliced-in value for a given event between two conditions.\n",
    "# If filtering is not desired by FDR, set this to 0.\n",
    "diff_filter = 0.15\n",
    "\n",
    "# Set count filter threshold. This will keep all events that have read counts > the value specified.\n",
    "# If filtering is not desired based on counts, set this to 0.\n",
    "count_filter = 20"
   ]
  },
  {
   "cell_type": "markdown",
   "id": "17329077",
   "metadata": {},
   "source": [
    "#### Specific rMAT data and output paths"
   ]
  },
  {
   "cell_type": "code",
   "execution_count": 48,
   "id": "ae08861b",
   "metadata": {},
   "outputs": [],
   "source": [
    "# For convenience, the script has a -d option which allows for filtering of all rMAT files within a directory.\n",
    "# This option will be used in this example.\n",
    "rmats_output = 'test_data/rmats_test_data/jcec/'\n",
    "\n",
    "# Set output directory\n",
    "filter_out = 'test_data/rmats_test_data/'"
   ]
  },
  {
   "cell_type": "markdown",
   "id": "9388b2d9",
   "metadata": {},
   "source": [
    "#### Run filtering"
   ]
  },
  {
   "cell_type": "code",
   "execution_count": 54,
   "id": "09071941",
   "metadata": {},
   "outputs": [
    {
     "name": "stdout",
     "output_type": "stream",
     "text": [
      "Finished with test_data/rmats_test_data/jcec/SE.MATS.JCEC.txt\n",
      "Finished with test_data/rmats_test_data/jcec/RI.MATS.JCEC.txt\n",
      "Finished with test_data/rmats_test_data/jcec/MXE.MATS.JCEC.txt\n",
      "Finished with test_data/rmats_test_data/jcec/A5SS.MATS.JCEC.txt\n",
      "Finished with test_data/rmats_test_data/jcec/A3SS.MATS.JCEC.txt\n",
      " \n",
      "Filtering of rMATS output complete!\n"
     ]
    }
   ],
   "source": [
    "%%bash -s \"$rmats_output\" \"$pval_filter\" \"$fdr_filter\" \"$diff_filter\" \"$count_filter\" \"$filter_out\"\n",
    "python rmats_filter.py -d $1 $2 $3 $4 $5 $6"
   ]
  },
  {
   "cell_type": "markdown",
   "id": "92ae134a",
   "metadata": {},
   "source": [
    "The filtered output contains separate filtered files for each exon event type and an additional file with all events combined into a single file."
   ]
  },
  {
   "cell_type": "markdown",
   "id": "0ff558c2",
   "metadata": {},
   "source": [
    "### Step 3b: Find intersection of CLIP peaks with Exons from rMATS Output\n",
    "\n",
    "This can be achieved by using the peaks2rmats.py script. The script requires only two inputs; 1) filtered and formatted rMATS data and 2) the annotated peaks that was obtained in Step 2 of the workflow."
   ]
  },
  {
   "cell_type": "code",
   "execution_count": 57,
   "id": "5244630e",
   "metadata": {},
   "outputs": [],
   "source": [
    "# Set path variables\n",
    "rmats_file = 'test_data/rmats_test_data/all_events_filtered_Pval-lt-0.15_FDR-lt-0.15_Diff-gt-0.15_Count-gt-20.csv'\n",
    "peaks_file = 'test_data/annotated_peaks.csv'\n",
    "out_path = 'test_data/'"
   ]
  },
  {
   "cell_type": "code",
   "execution_count": 61,
   "id": "5240045e",
   "metadata": {},
   "outputs": [
    {
     "name": "stdout",
     "output_type": "stream",
     "text": [
      "Summary complete!\n"
     ]
    }
   ],
   "source": [
    "%%bash -s \"$rmats_file\" \"$peaks_file\" \"$out_path\"\n",
    "python peaks2rmats.py -rf $1 -ap $2 -out $3"
   ]
  },
  {
   "cell_type": "code",
   "execution_count": 5,
   "id": "39c984eb",
   "metadata": {},
   "outputs": [
    {
     "data": {
      "text/html": [
       "<div>\n",
       "<style scoped>\n",
       "    .dataframe tbody tr th:only-of-type {\n",
       "        vertical-align: middle;\n",
       "    }\n",
       "\n",
       "    .dataframe tbody tr th {\n",
       "        vertical-align: top;\n",
       "    }\n",
       "\n",
       "    .dataframe thead th {\n",
       "        text-align: right;\n",
       "    }\n",
       "</style>\n",
       "<table border=\"1\" class=\"dataframe\">\n",
       "  <thead>\n",
       "    <tr style=\"text-align: right;\">\n",
       "      <th></th>\n",
       "      <th>ID</th>\n",
       "      <th>GeneID</th>\n",
       "      <th>Event</th>\n",
       "      <th>geneSymbol</th>\n",
       "      <th>PValue</th>\n",
       "      <th>FDR</th>\n",
       "      <th>IncLevelDifference</th>\n",
       "      <th>Region_type</th>\n",
       "      <th>Feature_type</th>\n",
       "      <th>exon</th>\n",
       "      <th>lower</th>\n",
       "      <th>upper</th>\n",
       "      <th>exon_count</th>\n",
       "      <th>lower_count</th>\n",
       "      <th>upper_count</th>\n",
       "      <th>total</th>\n",
       "    </tr>\n",
       "  </thead>\n",
       "  <tbody>\n",
       "    <tr>\n",
       "      <th>0</th>\n",
       "      <td>467</td>\n",
       "      <td>ENSMUSG00000026150.14</td>\n",
       "      <td>SE</td>\n",
       "      <td>Mff</td>\n",
       "      <td>0.000000e+00</td>\n",
       "      <td>0.000000e+00</td>\n",
       "      <td>0.296</td>\n",
       "      <td>NaN</td>\n",
       "      <td>NaN</td>\n",
       "      <td>NaN</td>\n",
       "      <td>NaN</td>\n",
       "      <td>NaN</td>\n",
       "      <td>NaN</td>\n",
       "      <td>NaN</td>\n",
       "      <td>NaN</td>\n",
       "      <td>NaN</td>\n",
       "    </tr>\n",
       "    <tr>\n",
       "      <th>1</th>\n",
       "      <td>472</td>\n",
       "      <td>ENSMUSG00000026150.14</td>\n",
       "      <td>SE</td>\n",
       "      <td>Mff</td>\n",
       "      <td>1.110223e-16</td>\n",
       "      <td>5.139122e-15</td>\n",
       "      <td>-0.310</td>\n",
       "      <td>NaN</td>\n",
       "      <td>NaN</td>\n",
       "      <td>NaN</td>\n",
       "      <td>NaN</td>\n",
       "      <td>NaN</td>\n",
       "      <td>NaN</td>\n",
       "      <td>NaN</td>\n",
       "      <td>NaN</td>\n",
       "      <td>NaN</td>\n",
       "    </tr>\n",
       "    <tr>\n",
       "      <th>2</th>\n",
       "      <td>748</td>\n",
       "      <td>ENSMUSG00000038599.14</td>\n",
       "      <td>SE</td>\n",
       "      <td>Capn8</td>\n",
       "      <td>5.683193e-10</td>\n",
       "      <td>1.472101e-08</td>\n",
       "      <td>0.518</td>\n",
       "      <td>NaN</td>\n",
       "      <td>NaN</td>\n",
       "      <td>NaN</td>\n",
       "      <td>NaN</td>\n",
       "      <td>NaN</td>\n",
       "      <td>NaN</td>\n",
       "      <td>NaN</td>\n",
       "      <td>NaN</td>\n",
       "      <td>NaN</td>\n",
       "    </tr>\n",
       "    <tr>\n",
       "      <th>3</th>\n",
       "      <td>1015</td>\n",
       "      <td>ENSMUSG00000026634.16</td>\n",
       "      <td>SE</td>\n",
       "      <td>Angel2</td>\n",
       "      <td>3.700040e-11</td>\n",
       "      <td>1.081012e-09</td>\n",
       "      <td>0.166</td>\n",
       "      <td>NaN</td>\n",
       "      <td>NaN</td>\n",
       "      <td>NaN</td>\n",
       "      <td>NaN</td>\n",
       "      <td>NaN</td>\n",
       "      <td>NaN</td>\n",
       "      <td>NaN</td>\n",
       "      <td>NaN</td>\n",
       "      <td>NaN</td>\n",
       "    </tr>\n",
       "    <tr>\n",
       "      <th>4</th>\n",
       "      <td>1529</td>\n",
       "      <td>ENSMUSG00000056763.16</td>\n",
       "      <td>SE</td>\n",
       "      <td>Cspp1</td>\n",
       "      <td>4.681000e-04</td>\n",
       "      <td>4.856173e-03</td>\n",
       "      <td>-0.249</td>\n",
       "      <td>NaN</td>\n",
       "      <td>NaN</td>\n",
       "      <td>NaN</td>\n",
       "      <td>NaN</td>\n",
       "      <td>NaN</td>\n",
       "      <td>NaN</td>\n",
       "      <td>NaN</td>\n",
       "      <td>NaN</td>\n",
       "      <td>NaN</td>\n",
       "    </tr>\n",
       "    <tr>\n",
       "      <th>5</th>\n",
       "      <td>1535</td>\n",
       "      <td>ENSMUSG00000056763.16</td>\n",
       "      <td>SE</td>\n",
       "      <td>Cspp1</td>\n",
       "      <td>1.049416e-11</td>\n",
       "      <td>3.218567e-10</td>\n",
       "      <td>-0.151</td>\n",
       "      <td>intron</td>\n",
       "      <td>NaN</td>\n",
       "      <td>NaN</td>\n",
       "      <td>peak_410</td>\n",
       "      <td>NaN</td>\n",
       "      <td>0.0</td>\n",
       "      <td>1.0</td>\n",
       "      <td>0.0</td>\n",
       "      <td>1.0</td>\n",
       "    </tr>\n",
       "    <tr>\n",
       "      <th>6</th>\n",
       "      <td>1536</td>\n",
       "      <td>ENSMUSG00000056763.16</td>\n",
       "      <td>SE</td>\n",
       "      <td>Cspp1</td>\n",
       "      <td>2.162423e-08</td>\n",
       "      <td>4.622037e-07</td>\n",
       "      <td>0.158</td>\n",
       "      <td>NaN</td>\n",
       "      <td>NaN</td>\n",
       "      <td>NaN</td>\n",
       "      <td>NaN</td>\n",
       "      <td>NaN</td>\n",
       "      <td>NaN</td>\n",
       "      <td>NaN</td>\n",
       "      <td>NaN</td>\n",
       "      <td>NaN</td>\n",
       "    </tr>\n",
       "    <tr>\n",
       "      <th>7</th>\n",
       "      <td>1538</td>\n",
       "      <td>ENSMUSG00000026307.12</td>\n",
       "      <td>SE</td>\n",
       "      <td>Scly</td>\n",
       "      <td>1.125553e-03</td>\n",
       "      <td>1.074518e-02</td>\n",
       "      <td>0.179</td>\n",
       "      <td>NaN</td>\n",
       "      <td>NaN</td>\n",
       "      <td>NaN</td>\n",
       "      <td>NaN</td>\n",
       "      <td>NaN</td>\n",
       "      <td>NaN</td>\n",
       "      <td>NaN</td>\n",
       "      <td>NaN</td>\n",
       "      <td>NaN</td>\n",
       "    </tr>\n",
       "    <tr>\n",
       "      <th>8</th>\n",
       "      <td>1953</td>\n",
       "      <td>ENSMUSG00000026289.15</td>\n",
       "      <td>SE</td>\n",
       "      <td>Atg16l1</td>\n",
       "      <td>0.000000e+00</td>\n",
       "      <td>0.000000e+00</td>\n",
       "      <td>0.254</td>\n",
       "      <td>NaN</td>\n",
       "      <td>NaN</td>\n",
       "      <td>NaN</td>\n",
       "      <td>NaN</td>\n",
       "      <td>NaN</td>\n",
       "      <td>NaN</td>\n",
       "      <td>NaN</td>\n",
       "      <td>NaN</td>\n",
       "      <td>NaN</td>\n",
       "    </tr>\n",
       "    <tr>\n",
       "      <th>9</th>\n",
       "      <td>3070</td>\n",
       "      <td>ENSMUSG00000040225.15</td>\n",
       "      <td>SE</td>\n",
       "      <td>Prrc2c</td>\n",
       "      <td>0.000000e+00</td>\n",
       "      <td>0.000000e+00</td>\n",
       "      <td>0.549</td>\n",
       "      <td>NaN</td>\n",
       "      <td>NaN</td>\n",
       "      <td>NaN</td>\n",
       "      <td>NaN</td>\n",
       "      <td>NaN</td>\n",
       "      <td>NaN</td>\n",
       "      <td>NaN</td>\n",
       "      <td>NaN</td>\n",
       "      <td>NaN</td>\n",
       "    </tr>\n",
       "  </tbody>\n",
       "</table>\n",
       "</div>"
      ],
      "text/plain": [
       "     ID                 GeneID Event geneSymbol        PValue           FDR  \\\n",
       "0   467  ENSMUSG00000026150.14    SE        Mff  0.000000e+00  0.000000e+00   \n",
       "1   472  ENSMUSG00000026150.14    SE        Mff  1.110223e-16  5.139122e-15   \n",
       "2   748  ENSMUSG00000038599.14    SE      Capn8  5.683193e-10  1.472101e-08   \n",
       "3  1015  ENSMUSG00000026634.16    SE     Angel2  3.700040e-11  1.081012e-09   \n",
       "4  1529  ENSMUSG00000056763.16    SE      Cspp1  4.681000e-04  4.856173e-03   \n",
       "5  1535  ENSMUSG00000056763.16    SE      Cspp1  1.049416e-11  3.218567e-10   \n",
       "6  1536  ENSMUSG00000056763.16    SE      Cspp1  2.162423e-08  4.622037e-07   \n",
       "7  1538  ENSMUSG00000026307.12    SE       Scly  1.125553e-03  1.074518e-02   \n",
       "8  1953  ENSMUSG00000026289.15    SE    Atg16l1  0.000000e+00  0.000000e+00   \n",
       "9  3070  ENSMUSG00000040225.15    SE     Prrc2c  0.000000e+00  0.000000e+00   \n",
       "\n",
       "   IncLevelDifference Region_type  Feature_type  exon     lower  upper  \\\n",
       "0               0.296         NaN           NaN   NaN       NaN    NaN   \n",
       "1              -0.310         NaN           NaN   NaN       NaN    NaN   \n",
       "2               0.518         NaN           NaN   NaN       NaN    NaN   \n",
       "3               0.166         NaN           NaN   NaN       NaN    NaN   \n",
       "4              -0.249         NaN           NaN   NaN       NaN    NaN   \n",
       "5              -0.151      intron           NaN   NaN  peak_410    NaN   \n",
       "6               0.158         NaN           NaN   NaN       NaN    NaN   \n",
       "7               0.179         NaN           NaN   NaN       NaN    NaN   \n",
       "8               0.254         NaN           NaN   NaN       NaN    NaN   \n",
       "9               0.549         NaN           NaN   NaN       NaN    NaN   \n",
       "\n",
       "   exon_count  lower_count  upper_count  total  \n",
       "0         NaN          NaN          NaN    NaN  \n",
       "1         NaN          NaN          NaN    NaN  \n",
       "2         NaN          NaN          NaN    NaN  \n",
       "3         NaN          NaN          NaN    NaN  \n",
       "4         NaN          NaN          NaN    NaN  \n",
       "5         0.0          1.0          0.0    1.0  \n",
       "6         NaN          NaN          NaN    NaN  \n",
       "7         NaN          NaN          NaN    NaN  \n",
       "8         NaN          NaN          NaN    NaN  \n",
       "9         NaN          NaN          NaN    NaN  "
      ]
     },
     "execution_count": 5,
     "metadata": {},
     "output_type": "execute_result"
    }
   ],
   "source": [
    "# The name of the output file is 'rmats_with_clip.csv'. We can view it using pandas.\n",
    "rmats_with_clip = pd.read_csv('test_data/rmats_with_clip.csv')\n",
    "rmats_with_clip.head(n=10)"
   ]
  },
  {
   "cell_type": "markdown",
   "id": "2d92ed0e",
   "metadata": {},
   "source": [
    "This data is not a great example, since very few peaks overlap with the differentially spliced exons."
   ]
  },
  {
   "cell_type": "markdown",
   "id": "830b3bc2",
   "metadata": {},
   "source": [
    "### peaks2rmat.py Output Format\n",
    "\n",
    "Note: Columns 'ID' to 'IncLevelDifference' are copied from the rMATS file.\n",
    "\n",
    "<b>Region_type</b>; specifies what regions of the splice event are peaks found: exon, exon-intron, intron\n",
    "\n",
    "<b>Feature_type</b>; for exonic binding, what region of mRNA are peaks localized within: 5'UTR, CDS, 3'UTR, etc\n",
    "\n",
    "<b>exon, lower, and upper</b>; list the peak_id of binding peaks from the annotated_peaks file that localized within the exon, downstream of exon (lower), upstream of exon (upper)\n",
    "\n",
    "<b>exon_count, lower_count, upper_count</b>; specifies the number of peaks localized within the specified region\n",
    "\n",
    "<b>total</b>; the total number of peaks that intersect with that exon event"
   ]
  },
  {
   "cell_type": "code",
   "execution_count": null,
   "id": "4cc5d068",
   "metadata": {},
   "outputs": [],
   "source": []
  }
 ],
 "metadata": {
  "kernelspec": {
   "display_name": "Python [conda env:lw-clipseq-tlk_dev]",
   "language": "python",
   "name": "conda-env-lw-clipseq-tlk_dev-py"
  },
  "language_info": {
   "codemirror_mode": {
    "name": "ipython",
    "version": 3
   },
   "file_extension": ".py",
   "mimetype": "text/x-python",
   "name": "python",
   "nbconvert_exporter": "python",
   "pygments_lexer": "ipython3",
   "version": "3.8.13"
  }
 },
 "nbformat": 4,
 "nbformat_minor": 5
}
